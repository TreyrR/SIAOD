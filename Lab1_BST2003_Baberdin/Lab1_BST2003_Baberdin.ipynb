{
 "cells": [
  {
   "cell_type": "markdown",
   "id": "e2a37609-9f5a-4536-aad6-36b80e69a3ef",
   "metadata": {},
   "source": [
    "# Лабораторная работа №1\n",
    "## Выполнил студент группы БСТ2003 Бабердин Василий Павлович\n",
    "### Задание 1 "
   ]
  },
  {
   "cell_type": "code",
   "execution_count": 1,
   "id": "6c8ebf6a-83ce-4040-97fa-34cad832193e",
   "metadata": {},
   "outputs": [
    {
     "name": "stdout",
     "output_type": "stream",
     "text": [
      "BST2003 Baberdin\n",
      "Hello world!\n"
     ]
    }
   ],
   "source": [
    "#ВЫВОД ГРУППЫ И ФАМИЛИИ\n",
    "print('BST2003 Baberdin')\n",
    "#ВЫВОД ФРАЗЫ HELLO WORLD\n",
    "print('Hello world!')"
   ]
  },
  {
   "cell_type": "markdown",
   "id": "7b9ec566-0fc3-465e-936e-e6a99ac644ec",
   "metadata": {},
   "source": [
    "### Задание 2"
   ]
  },
  {
   "cell_type": "markdown",
   "id": "b0c55c24-4d83-4cd6-9d5a-f92d885a73af",
   "metadata": {},
   "source": [
    "#### Написать генератор случайных матриц(многомерных), который принимает\n",
    "#### опциональные параметры m, n, min_limit, max_limit, где m и n указывают размер\n",
    "#### матрицы, а min_lim и max_lim - минимальное и максимальное значение для\n",
    "#### генерируемого числа . По умолчанию при отсутствии параметров принимать следующие\n",
    "#### значения:\n",
    "#### m = 50\n",
    "#### n = 50\n",
    "#### min_limit = -250\n",
    "#### max_limit = 1000 + (номер своего варианта)"
   ]
  },
  {
   "cell_type": "code",
   "execution_count": 4,
   "id": "1567cdd8-68e1-433f-a955-d5f08fd94701",
   "metadata": {},
   "outputs": [
    {
     "name": "stdout",
     "output_type": "stream",
     "text": [
      "Команда 1: Ввести параметры матрицы вручную\n",
      "Команда 2: Ввести дефолтные параметры матрицы\n",
      "Введите номер команды: \n"
     ]
    },
    {
     "name": "stdin",
     "output_type": "stream",
     "text": [
      " 1\n"
     ]
    },
    {
     "name": "stdout",
     "output_type": "stream",
     "text": [
      "Введите индекс n: \n"
     ]
    },
    {
     "name": "stdin",
     "output_type": "stream",
     "text": [
      " 5\n"
     ]
    },
    {
     "name": "stdout",
     "output_type": "stream",
     "text": [
      "Введите индекс m: \n"
     ]
    },
    {
     "name": "stdin",
     "output_type": "stream",
     "text": [
      " 5\n"
     ]
    },
    {
     "name": "stdout",
     "output_type": "stream",
     "text": [
      "Введите минимальное значение интервала рандома: \n"
     ]
    },
    {
     "name": "stdin",
     "output_type": "stream",
     "text": [
      " 1\n"
     ]
    },
    {
     "name": "stdout",
     "output_type": "stream",
     "text": [
      "Введите максимальное значение интервала рандома: \n"
     ]
    },
    {
     "name": "stdin",
     "output_type": "stream",
     "text": [
      " 10\n"
     ]
    },
    {
     "name": "stdout",
     "output_type": "stream",
     "text": [
      "МАТРИЦА: \n",
      "[2, 9, 4, 2, 1]\n",
      "[4, 5, 7, 4, 4]\n",
      "[6, 8, 5, 6, 3]\n",
      "[5, 9, 6, 5, 9]\n",
      "[8, 4, 10, 9, 3]\n"
     ]
    }
   ],
   "source": [
    "\n",
    "from random import randint          #БИБЛИОТЕКА РАНДОМА\n",
    "\n",
    "#ФУНКЦИЯ ГЕНЕРАЦИИ МАТРИЦЫ\n",
    "def createMatrix():\n",
    "    print('Команда 1: Ввести параметры матрицы вручную')\n",
    "    print('Команда 2: Ввести дефолтные параметры матрицы')\n",
    "    print('Введите номер команды: ')\n",
    "    ask = int(input())\n",
    "\n",
    "    while (True):\n",
    "        if (ask == 1):\n",
    "            print('Введите индекс n: ')            #ВВОД ПОЛЬЗОВАТЕЛЕМ ЗНАЧЕНИЙ\n",
    "            n = int(input())\n",
    "            print('Введите индекс m: ')\n",
    "            m = int(input())\n",
    "            print('Введите минимальное значение интервала рандома: ')\n",
    "            min_limit = int(input())\n",
    "            print('Введите максимальное значение интервала рандома: ')\n",
    "            max_limit = int(input())\n",
    "\n",
    "            # ЗАПОЛНЕНИЕ РАНДОМНЫМИ ЗНАЧЕНИЯМИ В ИНТЕРВАЛЕ (min_limit, max_limit)\n",
    "            matrix = [[randint(min_limit, max_limit) for j in range(n)] for i in range(m)]\n",
    "            return matrix\n",
    "            break\n",
    "\n",
    "        elif (ask == 2):\n",
    "            n = 50\n",
    "            m = 50\n",
    "            min_limit = -250\n",
    "            max_limit = 1000 + 2\n",
    "\n",
    "            # ЗАПОЛНЕНИЕ РАНДОМНЫМИ ЗНАЧЕНИЯМИ В ИНТЕРВАЛЕ (min_limit, max_limit)\n",
    "            matrix = [[randint(min_limit, max_limit) for j in range(n)] for i in range(m)]\n",
    "            return matrix\n",
    "            break\n",
    "\n",
    "        else:\n",
    "            print('Такой команды не существует, введите команду из перечисленных! (1-заполнить вручную, 2-заполнить дефолтными значениями)')\n",
    "            ask = int(input())\n",
    "\n",
    "#ФУНКЦИЯ ВЫВОДА МАТРИЦЫ\n",
    "def outputMatrix():\n",
    "    matrix = createMatrix()\n",
    "    print('МАТРИЦА: ')\n",
    "    for i in range(len(matrix)):\n",
    "        print(matrix[i])\n",
    "\n",
    "#ВЫЗОВ ФУНКЦИИ ВЫВОДА\n",
    "outputMatrix()\n",
    "\n"
   ]
  },
  {
   "cell_type": "markdown",
   "id": "7ac541d5-b274-4451-b39b-124914961429",
   "metadata": {},
   "source": [
    "### Задание 3\n",
    "#### Реализовать методы сортировки строк числовой матрицы в соответствии с\n",
    "#### заданием. Оценить время работы каждого алгоритма сортировки и сравнить его со\n",
    "#### временем стандартной функции сортировки. Испытания проводить на сгенерированных\n",
    "#### матрицах.\n",
    "#### Используемые сортировки: выбором, вставкой, обменом, шелла, турнирная, быстрая, пирамидальная"
   ]
  },
  {
   "cell_type": "code",
   "execution_count": 7,
   "id": "970226ee-e8d1-42c9-9278-1473001c7281",
   "metadata": {},
   "outputs": [
    {
     "name": "stdout",
     "output_type": "stream",
     "text": [
      "Команда 1: Ввести параметры матрицы вручную\n",
      "Команда 2: Ввести дефолтные параметры матрицы\n",
      "Введите номер команды: \n"
     ]
    },
    {
     "name": "stdin",
     "output_type": "stream",
     "text": [
      " 1\n"
     ]
    },
    {
     "name": "stdout",
     "output_type": "stream",
     "text": [
      "Введите индекс n: \n"
     ]
    },
    {
     "name": "stdin",
     "output_type": "stream",
     "text": [
      " 25\n"
     ]
    },
    {
     "name": "stdout",
     "output_type": "stream",
     "text": [
      "Введите индекс m: \n"
     ]
    },
    {
     "name": "stdin",
     "output_type": "stream",
     "text": [
      " 25\n"
     ]
    },
    {
     "name": "stdout",
     "output_type": "stream",
     "text": [
      "Введите минимальное значение интервала рандома: \n"
     ]
    },
    {
     "name": "stdin",
     "output_type": "stream",
     "text": [
      " -10\n"
     ]
    },
    {
     "name": "stdout",
     "output_type": "stream",
     "text": [
      "Введите максимальное значение интервала рандома: \n"
     ]
    },
    {
     "name": "stdin",
     "output_type": "stream",
     "text": [
      " 10\n"
     ]
    },
    {
     "name": "stdout",
     "output_type": "stream",
     "text": [
      "НЕОТСОРТИРОВАННАЯ МАТРИЦА\n",
      "--------------------------------------------------------------------------------------\n",
      "[4, -10, 1, 3, 10, 3, 0, -7, 6, -3, -10, 3, 0, 2, -9, -10, 6, 4, 8, -6, -4, -7, 4, -2, -9]\n",
      "[10, -6, 9, -10, -5, 10, 5, 8, -9, -7, -3, -7, -4, 9, -10, -2, -1, -2, -3, -7, 1, -7, -1, 8, 10]\n",
      "[4, -6, -10, 8, 7, -7, -7, 5, 4, -9, 5, 1, 1, -7, -3, 5, 9, -3, -5, 9, 5, 0, 0, 5, 6]\n",
      "[10, 0, -4, -7, -7, -9, -7, 6, 9, -7, -4, 8, 8, -8, 3, 7, -2, -9, -2, 3, 9, 3, -9, -6, -6]\n",
      "[8, 0, 5, -8, -2, 4, -1, -9, -9, -5, 2, 3, -7, -3, 6, -5, 10, 10, 4, 4, -4, 6, -10, 5, 9]\n",
      "[-3, 10, -9, 9, -9, -10, -10, -10, 1, -1, -1, -7, -10, 3, -6, 4, 10, 6, -6, -5, -6, 3, -5, 0, 4]\n",
      "[-5, -3, 3, 9, 8, 8, 5, 3, 2, -7, 9, -10, 10, 2, -8, 2, -3, 0, -1, 3, -7, -7, 6, -6, 9]\n",
      "[-1, 7, -5, 6, -2, 5, -2, -4, -6, -10, 8, -3, -10, -4, 4, -9, 7, 0, 0, -4, -7, -9, 2, 4, 5]\n",
      "[0, 9, 9, 9, 6, -5, 0, -2, 2, 4, -3, 3, 3, -2, -9, -6, 8, 4, 5, 9, -7, -6, 4, 1, 8]\n",
      "[-6, 0, 5, -1, -6, 6, 0, -10, 1, -10, 5, 6, -7, -8, -10, 9, 1, -2, 7, -8, -7, 4, -2, 10, -8]\n",
      "[8, -6, -10, 6, 1, 2, -9, 3, -7, 1, 1, 4, -7, 1, -4, 4, 3, 0, -3, 7, -5, -2, 3, -9, 2]\n",
      "[10, 10, 0, 3, 2, 6, 0, 7, 8, -10, 3, 1, -10, 3, 7, 0, 6, 1, 6, 5, 6, 4, 4, -1, 1]\n",
      "[5, 10, 6, 3, 4, 10, 4, 1, -10, -6, 3, -2, 1, -8, 7, 2, 0, 5, -10, -4, 6, 10, -4, -2, -3]\n",
      "[8, 9, -10, -1, -6, 2, -7, -5, 10, -2, 3, 0, 3, 10, 8, 3, -3, 2, -5, 4, -2, 7, -6, 9, 0]\n",
      "[-9, -9, -6, -9, -2, 9, 1, -6, -2, -9, 2, -9, -2, -3, 0, 3, -8, -7, 9, 8, -3, -8, -2, 3, -9]\n",
      "[-6, 10, 2, 6, -10, 3, 5, 10, 7, -8, 0, -10, -3, -2, 8, -3, -8, -8, -5, 8, -8, 7, 4, 4, -5]\n",
      "[-1, -3, -1, -2, 3, 5, -4, -10, -7, -6, 8, 7, -7, 7, 2, 2, -2, 2, 4, -8, -3, 7, 2, -9, -2]\n",
      "[-1, 9, 7, 8, 9, 3, 5, 7, -9, 5, 6, 1, 3, 0, 1, 1, -5, -1, 10, 10, -6, 7, 7, -5, -9]\n",
      "[-1, 4, 4, 6, 1, 0, 8, 8, -9, 7, -8, -4, -5, -10, -3, -4, 4, -8, -3, -8, 1, -10, 8, -7, 6]\n",
      "[10, -3, 4, -10, 1, 5, 7, 2, -8, 3, -6, 1, 2, -10, -2, 2, 9, 8, -2, -1, 5, 7, -8, 4, -5]\n",
      "[-4, -7, -9, 0, -5, -4, 7, -2, -8, -5, -1, -2, 7, 3, -8, -10, -10, 4, -2, 7, -4, 8, -3, -4, 4]\n",
      "[0, 10, 2, 4, 2, 1, -6, 3, 8, 8, 9, 7, 8, 7, -10, 4, -3, -8, -2, 4, -4, -1, 2, 4, 4]\n",
      "[5, -3, 10, 9, -1, -10, -8, -2, -6, 10, -1, -5, 6, -7, 1, 7, -1, 3, -7, 4, 2, -9, -1, 4, -2]\n",
      "[-3, -3, -5, 4, -1, -9, -8, 0, -2, 3, -2, -8, 7, 1, -9, 3, -3, 0, -10, 1, -3, -7, -9, 1, 6]\n",
      "[-7, -2, -4, 3, 7, 2, 6, 2, 6, 0, -2, 2, -1, -2, 3, -10, -7, -7, -7, -8, 0, 2, -2, -10, 9]\n",
      "--------------------------------------------------------------------------------------\n",
      "ОТСОРТИРОВАННАЯ МАТРИЦА\n",
      "++++++++++++++++++++++++++++++++++++++++++++++++++++++++++++++++++++++++++++++++++++++\n",
      "[-10, -10, -10, -9, -9, -7, -7, -6, -4, -3, -2, 0, 0, 1, 2, 3, 3, 3, 4, 4, 4, 6, 6, 8, 10]\n",
      "[-10, -10, -9, -7, -7, -7, -7, -6, -5, -4, -3, -3, -2, -2, -1, -1, 1, 5, 8, 8, 9, 9, 10, 10, 10]\n",
      "[-10, -9, -7, -7, -7, -6, -5, -3, -3, 0, 0, 1, 1, 4, 4, 5, 5, 5, 5, 5, 6, 7, 8, 9, 9]\n",
      "[-9, -9, -9, -8, -7, -7, -7, -7, -6, -6, -4, -4, -2, -2, 0, 3, 3, 3, 6, 7, 8, 8, 9, 9, 10]\n",
      "[-10, -9, -9, -8, -7, -5, -5, -4, -3, -2, -1, 0, 2, 3, 4, 4, 4, 5, 5, 6, 6, 8, 9, 10, 10]\n",
      "[-10, -10, -10, -10, -9, -9, -7, -6, -6, -6, -5, -5, -3, -1, -1, 0, 1, 3, 3, 4, 4, 6, 9, 10, 10]\n",
      "[-10, -8, -7, -7, -7, -6, -5, -3, -3, -1, 0, 2, 2, 2, 3, 3, 3, 5, 6, 8, 8, 9, 9, 9, 10]\n",
      "[-10, -10, -9, -9, -7, -6, -5, -4, -4, -4, -3, -2, -2, -1, 0, 0, 2, 4, 4, 5, 5, 6, 7, 7, 8]\n",
      "[-9, -7, -6, -6, -5, -3, -2, -2, 0, 0, 1, 2, 3, 3, 4, 4, 4, 5, 6, 8, 8, 9, 9, 9, 9]\n",
      "[-10, -10, -10, -8, -8, -8, -7, -7, -6, -6, -2, -2, -1, 0, 0, 1, 1, 4, 5, 5, 6, 6, 7, 9, 10]\n",
      "[-10, -9, -9, -7, -7, -6, -5, -4, -3, -2, 0, 1, 1, 1, 1, 2, 2, 3, 3, 3, 4, 4, 6, 7, 8]\n",
      "[-10, -10, -1, 0, 0, 0, 1, 1, 1, 2, 3, 3, 3, 4, 4, 5, 6, 6, 6, 6, 7, 7, 8, 10, 10]\n",
      "[-10, -10, -8, -6, -4, -4, -3, -2, -2, 0, 1, 1, 2, 3, 3, 4, 4, 5, 5, 6, 6, 7, 10, 10, 10]\n",
      "[-10, -7, -6, -6, -5, -5, -3, -2, -2, -1, 0, 0, 2, 2, 3, 3, 3, 4, 7, 8, 8, 9, 9, 10, 10]\n",
      "[-9, -9, -9, -9, -9, -9, -8, -8, -7, -6, -6, -3, -3, -2, -2, -2, -2, 0, 1, 2, 3, 3, 8, 9, 9]\n",
      "[-10, -10, -8, -8, -8, -8, -6, -5, -5, -3, -3, -2, 0, 2, 3, 4, 4, 5, 6, 7, 7, 8, 8, 10, 10]\n",
      "[-10, -9, -8, -7, -7, -6, -4, -3, -3, -2, -2, -2, -1, -1, 2, 2, 2, 2, 3, 4, 5, 7, 7, 7, 8]\n",
      "[-9, -9, -6, -5, -5, -1, -1, 0, 1, 1, 1, 3, 3, 5, 5, 6, 7, 7, 7, 7, 8, 9, 9, 10, 10]\n",
      "[-10, -10, -9, -8, -8, -8, -7, -5, -4, -4, -3, -3, -1, 0, 1, 1, 4, 4, 4, 6, 6, 7, 8, 8, 8]\n",
      "[-10, -10, -8, -8, -6, -5, -3, -2, -2, -1, 1, 1, 2, 2, 2, 3, 4, 4, 5, 5, 7, 7, 8, 9, 10]\n",
      "[-10, -10, -9, -8, -8, -7, -5, -5, -4, -4, -4, -4, -3, -2, -2, -2, -1, 0, 3, 4, 4, 7, 7, 7, 8]\n",
      "[-10, -8, -6, -4, -3, -2, -1, 0, 1, 2, 2, 2, 3, 4, 4, 4, 4, 4, 7, 7, 8, 8, 8, 9, 10]\n",
      "[-10, -9, -8, -7, -7, -6, -5, -3, -2, -2, -1, -1, -1, -1, 1, 2, 3, 4, 4, 5, 6, 7, 9, 10, 10]\n",
      "[-10, -9, -9, -9, -8, -8, -7, -5, -3, -3, -3, -3, -2, -2, -1, 0, 0, 1, 1, 1, 3, 3, 4, 6, 7]\n",
      "[-10, -10, -8, -7, -7, -7, -7, -4, -2, -2, -2, -2, -1, 0, 0, 2, 2, 2, 2, 3, 3, 6, 6, 7, 9]\n",
      "++++++++++++++++++++++++++++++++++++++++++++++++++++++++++++++++++++++++++++++++++++++\n",
      "Время выполнения сортировкой выбора:  0.002 сек\n",
      "_________________________\n",
      "Время выполнения сортировкой вставки:  0.001 сек\n",
      "_________________________\n",
      "Время выполнения сортировкой обмена:  0.003 сек\n",
      "_________________________\n",
      "Время выполнения сортировкой Шелла:  0.001 сек\n",
      "_________________________\n",
      "Время выполнения турнирной сортировкой:  0.016 сек\n",
      "_________________________\n",
      "Время выполнения быстрой сортировкой:  0.002 сек\n",
      "_________________________\n",
      "Время выполнения пирамидальной сортировкой:  0.002 сек\n",
      "_________________________\n"
     ]
    }
   ],
   "source": [
    "import time\n",
    "#import Task2\n",
    "from random import randint\n",
    "import copy\n",
    "import math\n",
    "\n",
    "#ФУНКЦИЯ СОРТИРОВКИ ВЫБОРОМ\n",
    "def selectSort(matrix):\n",
    "    for i in range(len(matrix)):\n",
    "        for j in range(len(matrix[0]) - 1):\n",
    "            for k in range(j + 1, len(matrix[0])):\n",
    "                if matrix[i][k] < matrix[i][j]:\n",
    "                    matrix[i][j], matrix[i][k] = matrix[i][k], matrix[i][j]\n",
    "    return matrix\n",
    "\n",
    "#ФУНКЦИЯ СОРТИРОВКИ ВСТАВКОЙ\n",
    "def pasteSort(matrix):\n",
    "    for row in range(len(matrix)):\n",
    "        for col in range(1, len(matrix[0])):\n",
    "            key = matrix[row][col]\n",
    "            j = col - 1\n",
    "            while j >= 0 and key < matrix[row][j]:\n",
    "                matrix[row][j + 1] = matrix[row][j]\n",
    "                j -= 1\n",
    "            matrix[row][j + 1] = key\n",
    "    return matrix\n",
    "\n",
    "#ФУНКЦИЯ СОРТИРОВКИ ОБМЕНОМ\n",
    "def tradeSort(matrix):\n",
    "    for row in range(len(matrix)):\n",
    "        for col in range(len(matrix[0]) - 1):\n",
    "            for j in range(len(matrix[0]) - col - 1):\n",
    "                if matrix[row][j] > matrix[row][j + 1]:\n",
    "                    matrix[row][j], matrix[row][j + 1] = matrix[row][j + 1], matrix[row][j]\n",
    "    return matrix\n",
    "\n",
    "#ФУНКЦИЯ СОРТИРОВКИ ШЕЛЛА\n",
    "def shellSort(matrix):\n",
    "    n = len(matrix[0])\n",
    "    k = int(math.log2(n))\n",
    "    interval = int(2 ** k - 1)\n",
    "    while interval > 0:\n",
    "        for row in range(len(matrix)):\n",
    "            for col in range(interval, n):\n",
    "                temp = matrix[row][col]\n",
    "                j = col\n",
    "                while j >= interval and matrix[row][j - interval] > temp:\n",
    "                    matrix[row][j] = matrix[row][j - interval]\n",
    "                    j -= interval\n",
    "                matrix[row][j] = temp\n",
    "        k -= 1\n",
    "        interval = int(2 ** k - 1)\n",
    "    return matrix\n",
    "\n",
    "#ФУНКЦИЯ ТУРНИРНОЙ СОРТИРОВКИ\n",
    "def tournamentSort(matrix):\n",
    "    tree = [None] * 2 * (len(matrix) + len(matrix) % 2)\n",
    "    index = len(tree) - len(matrix) - len(matrix) % 2\n",
    "\n",
    "    for i, v in enumerate(matrix):\n",
    "        tree[index + i] = (i, v)\n",
    "\n",
    "    for j in range(len(matrix)):\n",
    "        n = len(matrix)\n",
    "        index = len(tree) - len(matrix) - len(matrix) % 2\n",
    "        while index > -1:\n",
    "            n = (n + 1) // 2\n",
    "            for i in range(n):\n",
    "                i = max(index + i * 2, 1)\n",
    "                if tree[i] != None and tree[i + 1] != None:\n",
    "                    if tree[i][1] < tree[i + 1][1]:\n",
    "                        tree[i // 2] = tree[i]\n",
    "                    else:\n",
    "                        tree[i // 2] = tree[i + 1]\n",
    "                else:\n",
    "                    tree[i // 2] = tree[i] if tree[i] != None else tree[i + 1]\n",
    "            index -= n\n",
    "\n",
    "        index, x = tree[0]\n",
    "        matrix[j] = x\n",
    "        tree[len(tree) - len(matrix) - len(matrix) % 2 + index] = None\n",
    "\n",
    "def TournamentSort(matrix):\n",
    "    for i in range(len(matrix)):\n",
    "        tournamentSort(matrix[i])\n",
    "    return matrix\n",
    "\n",
    "#ФУНКЦИЯ БЫСТРОЙ СОРТИРОВКИ\n",
    "def partition(matrix, low, high, row):\n",
    "    pivot = matrix[row][(low + high) // 2]\n",
    "    i = low - 1\n",
    "    j = high + 1\n",
    "    while True:\n",
    "        i += 1\n",
    "        while matrix[row][i] < pivot:\n",
    "            i += 1\n",
    "\n",
    "        j -= 1\n",
    "        while matrix[row][j] > pivot:\n",
    "            j -= 1\n",
    "\n",
    "        if i >= j:\n",
    "            return j\n",
    "\n",
    "        matrix[row][i], matrix[row][j] = matrix[row][j], matrix[row][i]\n",
    "\n",
    "def fastSort(matrix):\n",
    "    def _quick_sort(items, low, high,row):\n",
    "        if low < high:\n",
    "            split_index = partition(items, low, high,row)\n",
    "            _quick_sort(items, low, split_index,row)\n",
    "            _quick_sort(items, split_index + 1, high,row)\n",
    "\n",
    "    for row in range(len(matrix)):\n",
    "        _quick_sort(matrix, 0, len(matrix[row])-1,row)\n",
    "\n",
    "    return matrix\n",
    "\n",
    "#ФУНКЦИЯ ПИРАМИДАЛЬНОЙ СОРТИРОВКА\n",
    "def heapify(matrix, n, i, row):\n",
    "    largest = i\n",
    "    l = 2 * i + 1\n",
    "    r = 2 * i + 2\n",
    "\n",
    "    if l < n and matrix[row][i] < matrix[row][l]:\n",
    "        largest = l\n",
    "    if r < n and matrix[row][largest] < matrix[row][r]:\n",
    "        largest = r\n",
    "\n",
    "    if largest != i:\n",
    "        matrix[row][i], matrix[row][largest] = matrix[row][largest], matrix[row][i]\n",
    "        heapify(matrix, n, largest, row)\n",
    "\n",
    "\n",
    "def piramidSort(matrix):\n",
    "    for row in range(len(matrix)):\n",
    "        n = len(matrix[0])\n",
    "        for i in range(n // 2, -1, -1):\n",
    "            heapify(matrix, n, i, row)\n",
    "        for i in range(n - 1, 0, -1):\n",
    "            matrix[row][i], matrix[row][0] = matrix[row][0], matrix[row][i]\n",
    "            heapify(matrix, i, 0, row)\n",
    "    return matrix\n",
    "\n",
    "\n",
    "#ГЕНЕРИРУЕМ МАТРИЦУ И ЗАПИСЫВАЕМ В ПЕРЕМЕННУЮ\n",
    "matrix = createMatrix()\n",
    "\n",
    "#ВЫЗОВ ЧТОБЫ ВЫВЕСТИ 2 МАТРИЦЫ\n",
    "selectSort_matrix = copy.deepcopy(matrix)\n",
    "selectSort(selectSort_matrix)\n",
    "\n",
    "#ВЫВОД НЕОТСОРТИРОВАННОЙ МАТРИЦЫ\n",
    "print('НЕОТСОРТИРОВАННАЯ МАТРИЦА')\n",
    "print('--------------------------------------------------------------------------------------')\n",
    "for u in range(len(matrix)):\n",
    "     print(matrix[u])\n",
    "print('--------------------------------------------------------------------------------------')\n",
    "#ВЫВОД ОТСОРТИРОВАННОЙ МАТРИЦЫ\n",
    "print('ОТСОРТИРОВАННАЯ МАТРИЦА')\n",
    "print('++++++++++++++++++++++++++++++++++++++++++++++++++++++++++++++++++++++++++++++++++++++')\n",
    "for u in range(len(selectSort_matrix)):\n",
    "     print(selectSort_matrix[u])\n",
    "print('++++++++++++++++++++++++++++++++++++++++++++++++++++++++++++++++++++++++++++++++++++++')\n",
    "\n",
    "\n",
    "#СОРТИРОВКА ВЫБОРОМ\n",
    "#КОПИРУЕМ ОТСОРТИРОВАННУЮ МАТРИЦУ В НОВУЮ ПЕРЕМЕННУЮ\n",
    "selectSort_matrix = copy.deepcopy(matrix)\n",
    "#ФИКСИРУЕМ ВРЕМЯ\n",
    "startTime = time.time()\n",
    "#ВЫЗОВ ФУНКЦИИ ВЫБОРОЧНОЙ СОРТИРОВКИ\n",
    "selectSort(selectSort_matrix)\n",
    "#ПОДСЧЁТ ВРЕМЕНИ ВЫПОЛНЕНИЯ СОРТИРОВКИ\n",
    "endTime = time.time() - startTime\n",
    "print(\"Время выполнения сортировкой выбора: \",'%.3f' %endTime,\"сек\")\n",
    "print('_________________________')\n",
    "\n",
    "#CОРТИРОВКА ВСТАВКОЙ\n",
    "pasteSort_matrix = copy.deepcopy(matrix)\n",
    "startTime = time.time()\n",
    "pasteSort(pasteSort_matrix)\n",
    "endTime = time.time() - startTime\n",
    "print(\"Время выполнения сортировкой вставки: \",'%.3f' %endTime,\"сек\")\n",
    "print('_________________________')\n",
    "\n",
    "#СОРТИРОВКА ОБМЕНОМ\n",
    "tradeSort_matrix = copy.deepcopy(matrix)\n",
    "startTime = time.time()\n",
    "tradeSort(tradeSort_matrix)\n",
    "endTime = time.time() - startTime\n",
    "print(\"Время выполнения сортировкой обмена: \",'%.3f' %endTime,\"сек\")\n",
    "print('_________________________')\n",
    "\n",
    "#СОРТИРОВКА ШЕЛЛА\n",
    "shellSort_matrix = copy.deepcopy(matrix)\n",
    "startTime = time.time()\n",
    "shellSort(shellSort_matrix)\n",
    "endTime = time.time() - startTime\n",
    "print(\"Время выполнения сортировкой Шелла: \",'%.3f' %endTime,\"сек\")\n",
    "print('_________________________')\n",
    "\n",
    "#ТУРНИРНАЯ СОРТИРОВКА\n",
    "tournamentSort_matrix = copy.deepcopy(matrix)\n",
    "startTime = time.time()\n",
    "TournamentSort(tournamentSort_matrix)\n",
    "endTime = time.time() - startTime\n",
    "print(\"Время выполнения турнирной сортировкой: \",'%.3f' %endTime,\"сек\")\n",
    "print('_________________________')\n",
    "\n",
    "#БЫСТРАЯ СОРТИРОВКА\n",
    "fastSort_matrix = copy.deepcopy(matrix)\n",
    "startTime = time.time()\n",
    "fastSort(fastSort_matrix)\n",
    "endTime = time.time() - startTime\n",
    "print(\"Время выполнения быстрой сортировкой: \",'%.3f' %endTime,\"сек\")\n",
    "print('_________________________')\n",
    "\n",
    "#ПИРАМИДАЛЬНАЯ СОРТИРОВКА\n",
    "piramidSort_matrix = copy.deepcopy(matrix)\n",
    "startTime = time.time()\n",
    "piramidSort(piramidSort_matrix)\n",
    "endTime = time.time() - startTime\n",
    "print(\"Время выполнения пирамидальной сортировкой: \",'%.3f' %endTime,\"сек\")\n",
    "print('_________________________')"
   ]
  },
  {
   "cell_type": "markdown",
   "id": "bbc22521-5539-40fc-a65f-570c99e8b877",
   "metadata": {},
   "source": [
    "### Задание 4"
   ]
  },
  {
   "cell_type": "markdown",
   "id": "c054e67b-1a49-4d3e-84b5-40c5c4c4c60f",
   "metadata": {},
   "source": [
    "#### Создать публичный репозиторий на github, и запушить выполненное задание в\n",
    "#### .ipynb формате.\n"
   ]
  },
  {
   "cell_type": "code",
   "execution_count": null,
   "id": "a2a1f248-02a1-4c2a-8b38-77a05773a108",
   "metadata": {},
   "outputs": [],
   "source": []
  }
 ],
 "metadata": {
  "kernelspec": {
   "display_name": "Python 3",
   "language": "python",
   "name": "python3"
  },
  "language_info": {
   "codemirror_mode": {
    "name": "ipython",
    "version": 3
   },
   "file_extension": ".py",
   "mimetype": "text/x-python",
   "name": "python",
   "nbconvert_exporter": "python",
   "pygments_lexer": "ipython3",
   "version": "3.7.8"
  }
 },
 "nbformat": 4,
 "nbformat_minor": 5
}
