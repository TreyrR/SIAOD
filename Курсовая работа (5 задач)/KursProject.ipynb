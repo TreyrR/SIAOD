{
  "nbformat": 4,
  "nbformat_minor": 0,
  "metadata": {
    "colab": {
      "name": "Untitled0.ipynb",
      "provenance": []
    },
    "kernelspec": {
      "name": "python3",
      "display_name": "Python 3"
    },
    "language_info": {
      "name": "python"
    }
  },
  "cells": [
    {
      "cell_type": "markdown",
      "source": [
        "# Курсовая работа по дисциплине СиАОД\n",
        "### Выполнил студент группы БСТ2003 Бабердин Василий\n"
      ],
      "metadata": {
        "id": "XY_1VO3Fy_cy"
      }
    },
    {
      "cell_type": "markdown",
      "source": [
        "#### **Задание №1**\n",
        "#### Перестановка (1000 баллов)\n",
        "#### https://codeforces.com/problemset/problem/137/B\n",
        "\n",
        "***Задание:***\n",
        "\n",
        "«Пора делать домашку», — подумал Поликарп и конечно начал со своего любимого предмета — информатики. Все задачи кроме одной Поликарп смог решить за 20 минут. Не сумев за долгое время решить последнюю задачу, он попросил вас помочь ему.\n",
        "\n",
        "Последовательность из n чисел называется перестановкой, если она содержит в себе все числа от 1 до n ровно по одному разу.\n",
        "\n",
        "Вам задана произвольная последовательность a1, a2, ..., an из n целых чисел. Каждое число не меньше 1 и не больше 5000. Определите наименьшее количество чисел, которое нужно изменить, чтобы получилась перестановка (удалять или добавлять числа нельзя). Замена — это изменение произвольного элемента последовательности на новое значение.\n",
        "\n",
        "***Входные данные:***\n",
        "\n",
        "Первая строка входных данных содержит целое число n (1 ≤ n ≤ 5000) — количество чисел в последовательности. Во второй строке задана последовательность целых чисел ai (1 ≤ ai ≤ 5000, 1 ≤ i ≤ n).\n",
        "\n",
        "***Выходные данные:***\n",
        "\n",
        "Выведите единственное число — наименьшее количество замен, необходимое для получения перестановки."
      ],
      "metadata": {
        "id": "GoJ0UOX5zGBf"
      }
    },
    {
      "cell_type": "markdown",
      "source": [
        "##### **Код программы**"
      ],
      "metadata": {
        "id": "njB2mDAnzL1w"
      }
    },
    {
      "cell_type": "code",
      "source": [
        "def main():\n",
        "    nums = list()\n",
        "    n = int(input())\n",
        "    unique_nums = set()\n",
        "    nums = map(int, input().split(\" \"))\n",
        "\n",
        "    for k in nums:\n",
        "        if(k<=n):\n",
        "            unique_nums.add(k)\n",
        "\n",
        "    print (n-unique_nums.__len__())\n",
        "\n",
        "main()"
      ],
      "metadata": {
        "colab": {
          "base_uri": "https://localhost:8080/"
        },
        "id": "CBmnXSVB1gu3",
        "outputId": "e1086aa2-c0b0-4b42-c17f-806f9c4eeb08"
      },
      "execution_count": 3,
      "outputs": [
        {
          "output_type": "stream",
          "name": "stdout",
          "text": [
            "5\n",
            "5 3 3 3 1\n",
            "2\n"
          ]
        }
      ]
    },
    {
      "cell_type": "markdown",
      "source": [
        "#### **Задание №2**\n",
        "#### Плохие цены (1100 баллов)\n",
        "#### https://codeforces.com/problemset/problem/1213/B\n",
        "\n",
        "***Задание:***\n",
        "\n",
        "Поликарп анализирует цену на новую модель berPhone. В его распоряжении цены за n последних дней: a1,a2,…,an, где ai — цена berPhone в день i.\n",
        "\n",
        "Поликарп считает цену в день i плохой, если позже (то есть в день с большим номером) berPhone продавался по меньшей цене. Например, если n=6 и a=[3,9,4,6,7,5], то количество дней с плохой ценой равно 3 — это дни 2 (a2=9), 4 (a4=6) и 5 (a5=7).\n",
        "\n",
        "Выведите количество дней с плохой ценой по мнению Поликарпа.\n",
        "\n",
        "Вам необходимо ответить на t независимых наборов входных данных.\n",
        "\n",
        "***Входные данные:***\n",
        "\n",
        "В первой строке записано целое число t (1≤t≤10000) — количество наборов входных данных в тесте. Наборы входных данных надо обрабатывать независимо, один за другим.\n",
        "\n",
        "Каждый набор входных данных состоит из двух строк. Первая строка содержит целое число n (1≤n≤150000) — количество дней. Вторая строка содержит n целых чисел a1,a2,…,an (1≤ai≤106), где ai — цена в i-й день.\n",
        "\n",
        "Гарантируется, что сумма n по всем наборам входных данных в тесте не превосходит 150000.\n",
        "\n",
        "***Выходные данные:***\n",
        "\n",
        "Выведите t целых чисел, j-е из них должно быть равно количеству дней с плохой ценой в j-м наборе входных данных."
      ],
      "metadata": {
        "id": "257tf2BBGkmZ"
      }
    },
    {
      "cell_type": "markdown",
      "source": [
        "##### **Код программы**"
      ],
      "metadata": {
        "id": "sI8ACfEyHKMj"
      }
    },
    {
      "cell_type": "code",
      "source": [
        "def solve(n, arr):\n",
        "\n",
        "    min_price_on_right = arr[n-1]\n",
        "    bad_prices = 0\n",
        "\n",
        "    for i in range(n-2, -1, -1):\n",
        "\n",
        "        if arr[i] > min_price_on_right:\n",
        "            bad_prices += 1\n",
        "        else:\n",
        "            min_price_on_right = arr[i]\n",
        "\n",
        "    return bad_prices\n",
        "\n",
        "\n",
        "def main():\n",
        "\n",
        "    t = int(input())\n",
        "\n",
        "    results = list()\n",
        "    for _ in range(0, t):\n",
        "        n = int(input())\n",
        "        arr = list(map(int, input().split(\" \")))\n",
        "        results.append(solve(n, arr))\n",
        "\n",
        "    for result in results:\n",
        "        print (result)\n",
        "\n",
        "main()"
      ],
      "metadata": {
        "colab": {
          "base_uri": "https://localhost:8080/"
        },
        "id": "25kG0sL0JPFx",
        "outputId": "9564338d-817c-4696-969b-bd5a64b600f0"
      },
      "execution_count": 5,
      "outputs": [
        {
          "output_type": "stream",
          "name": "stdout",
          "text": [
            "5\n",
            "6\n",
            "3 9 4 6 7 5\n",
            "1\n",
            "1000000\n",
            "2\n",
            "2 1\n",
            "10\n",
            "31 41 59 26 53 58 97 93 23 84\n",
            "7\n",
            "3 2 1 2 3 4 5\n",
            "3\n",
            "0\n",
            "1\n",
            "8\n",
            "2\n"
          ]
        }
      ]
    },
    {
      "cell_type": "markdown",
      "source": [
        "#### **Задание №3**\n",
        "#### Перемещай скобки (1000 баллов)\n",
        "#### https://codeforces.com/problemset/problem/1374/C\n",
        "\n",
        "***Задание:***\n",
        "\n",
        "Вам задана скобочная последовательность s длины n, где n четное (без остатка делится на 2). Строка s состоит из n2 открывающих скобок '(' и n2 закрывающих скобок ')'.\n",
        "\n",
        "За один ход вы можете выбрать ровно одну скобку и передвинуть ее в начало или в конец строки (т.е. вы можете выбрать некоторый индекс i, удалить i-й символ из s и вставить его перед или после всех остальных символов в s).\n",
        "\n",
        "Ваша задача — найти минимальное количество ходов, необходимое, чтобы получить правильную скобочную последовательность из s. Можно доказать, что ответ всегда существует при данных ограничениях.\n",
        "\n",
        "Напомним, что такое правильная скобочная последовательность:\n",
        "\n",
        "«()» — правильная скобочная последовательность;\n",
        "если s — правильная скобочная последовательность, то «(» + s + «)» — правильная скобочная последовательность;\n",
        "если s и t — правильные скобочные последовательности, то s + t — правильная скобочная последовательность.\n",
        "Например, «()()», «(())()», «(())» и «()» являются правильными скобочными последовательностями, а «)(», «()(» и «)))» — нет.\n",
        "\n",
        "Вам нужно ответить на t независимых наборов тестовых данных.\n",
        "\n",
        "***Входные данные:***\n",
        "\n",
        "Первая строка теста содержит одно целое число t (1≤t≤2000) — количество наборов тестовых данных. Затем следуют t наборов тестовых данных.\n",
        "\n",
        "Первая строка набора тестовых данных содержит одно целое число n (2≤n≤50) — длину s. Гарантируется, что n четное. Вторая строка набора тестовых данных содержит строку s, состоящую из n2 открывающих и n2 закрывающих скобок.\n",
        "\n",
        "***Выходные данные:***\n",
        "\n",
        "Для каждого набора тестовых данных выведите ответ на него — минимальное количество ходов, необходимое, чтобы получить правильную скобочную последовательность из s. Можно доказать, что ответ всегда существует при данных ограничениях."
      ],
      "metadata": {
        "id": "nEcBupbpKJ06"
      }
    },
    {
      "cell_type": "markdown",
      "source": [
        "##### **Код программы**"
      ],
      "metadata": {
        "id": "pJsfzQTAMOmD"
      }
    },
    {
      "cell_type": "code",
      "source": [
        "def solve(n, brackets):\n",
        "\n",
        "    balance_counter = 0\n",
        "    total_moves = 0\n",
        "\n",
        "    for i in range(0, n):\n",
        "\n",
        "        balance_counter += 1 if brackets[i] == '(' else -1\n",
        "\n",
        "        if balance_counter < 0:\n",
        "            total_moves += 1\n",
        "            balance_counter = 0\n",
        "\n",
        "    return total_moves\n",
        "\n",
        "\n",
        "def main():\n",
        "\n",
        "    t = int(input())\n",
        "\n",
        "    results = list()\n",
        "    for _ in range(0, t):\n",
        "        n = int(input())\n",
        "        brackets = input()\n",
        "        results.append(solve(n, brackets))\n",
        "\n",
        "    for result in results:\n",
        "        print (result)\n",
        "\n",
        "main()"
      ],
      "metadata": {
        "colab": {
          "base_uri": "https://localhost:8080/"
        },
        "id": "oy7lB8AJMKnm",
        "outputId": "1091f407-d941-4fd1-caa8-10279a0a0edb"
      },
      "execution_count": 6,
      "outputs": [
        {
          "output_type": "stream",
          "name": "stdout",
          "text": [
            "4\n",
            "2\n",
            ")(\n",
            "4\n",
            "()()\n",
            "8\n",
            "())()()(\n",
            "10\n",
            ")))((((())\n",
            "1\n",
            "0\n",
            "1\n",
            "3\n"
          ]
        }
      ]
    },
    {
      "cell_type": "markdown",
      "source": [
        "#### **Задание №4**\n",
        "#### Система регистрации (1300 баллов)\n",
        "#### https://codeforces.com/problemset/problem/4/C\n",
        "\n",
        "***Задание:***\n",
        "\n",
        "В скором времени в Берляндии откроется новая почтовая служба \"Берляндеск\". Администрация сайта хочет запустить свой проект как можно быстрее, поэтому они попросили Вас о помощи. Вам предлагается реализовать прототип системы регистрации сайта.\n",
        "\n",
        "Система должна работать по следующему принципу. Каждый раз, когда новый пользователь хочет зарегистрироваться, он посылает системе запрос name со своим именем. Если данное имя не содержится в базе данных системы, то оно заносится туда и пользователю возвращается ответ OK, подтверждающий успешную регистрацию. Если же на сайте уже присутствует пользователь с именем name, то система формирует новое имя и выдает его пользователю в качестве подсказки, при этом подсказка также добавляется в базу данных. Новое имя формируется по следующему правилу. К name последовательно приписываются числа, начиная с единицы (name1, name2, ...), и среди них находят такое наименьшее i, что namei не содержится в базе данных сайта.\n",
        "\n",
        "***Входные данные:***\n",
        "\n",
        "В первой строке входных данных задано число n (1 ≤ n ≤ 105). Следующие n строк содержат запросы к системе. Каждый запрос представляет собой непустую строку длиной не более 32 символов, состоящую только из строчных букв латинского алфавита.\n",
        "\n",
        "***Выходные данные:***\n",
        "\n",
        "В выходных данных должно содержаться n строк — ответы системы на запросы: ОК в случае успешной регистрации, или подсказку с новым именем, если запрашиваемое уже занято."
      ],
      "metadata": {
        "id": "bo0jbFekROvy"
      }
    },
    {
      "cell_type": "markdown",
      "source": [
        "##### **Код программы**"
      ],
      "metadata": {
        "id": "vBhA3viwU3Vq"
      }
    },
    {
      "cell_type": "code",
      "source": [
        "def solve(n, names):\n",
        "\n",
        "    db = {}\n",
        "    result = []\n",
        "\n",
        "    for i in range(0, n):\n",
        "\n",
        "        if names[i] not in db:\n",
        "            result.append(\"OK\")\n",
        "            db[names[i]] = 1\n",
        "        else:\n",
        "            postfix = db[names[i]]\n",
        "            result.append(names[i] + str(postfix))\n",
        "            db[names[i]] = postfix + 1\n",
        "\n",
        "    return result\n",
        "\n",
        "\n",
        "\n",
        "def main():\n",
        "    n = int(input())\n",
        "    names = []\n",
        "    for i in range(0, n):\n",
        "        names.append(input())\n",
        "\n",
        "    result = solve(n, names)\n",
        "    for i in range(0, n):\n",
        "        print (result[i])\n",
        "\n",
        "main()"
      ],
      "metadata": {
        "colab": {
          "base_uri": "https://localhost:8080/"
        },
        "id": "jedS88C_Mgq6",
        "outputId": "bd79c21b-2dc0-4db6-8a64-02b64e852310"
      },
      "execution_count": 7,
      "outputs": [
        {
          "output_type": "stream",
          "name": "stdout",
          "text": [
            "6\n",
            "first\n",
            "first\n",
            "second\n",
            "second\n",
            "third\n",
            "third\n",
            "OK\n",
            "first1\n",
            "OK\n",
            "second1\n",
            "OK\n",
            "third1\n"
          ]
        }
      ]
    },
    {
      "cell_type": "markdown",
      "source": [
        "#### **Задание №5**\n",
        "#### Стартап (1000 баллов)\n",
        "#### https://codeforces.com/problemset/problem/421/B\n",
        "\n",
        "***Задание:***\n",
        "\n",
        "Совсем недавно стартап двух студентов государственного университета города F стал невероятно популярным. Пришло время основать новую компанию. Но какое название для нее выбрать?\n",
        "\n",
        "Было решено применить очень хитрый маркетинговый ход: название компании должно совпадать со своим зеркальным отражением! Другими словами, если выписать название компании на листке в строчку (горизонтально слева направо) большими буквами английского алфавита, после чего поставить этот листок напротив зеркала, то отражение названия в зеркале должно в точности совпадать со строкой, написанной на листке.\n",
        "\n",
        "Предложений, как назвать компанию, было очень много, поэтому подходить с листком к зеркалу для каждого названия было не разумно. Основатели компании решили автоматизировать этот процесс. Они попросили вас написать программу, которая по заданному слову определит, является оно «зеркальным» или нет.\n",
        "\n",
        "***Входные данные:***\n",
        "\n",
        "В первой строке содержится непустое название, которое требуется проверить. Название содержит в себе не более 105 заглавных букв английского алфавита. Для написания названия будет использоваться следующий шрифт без засечек:\n",
        "                    \n",
        "ABCDEFGHIJKLMNOPQRSTUVWXYZ\n",
        "\n",
        "***Выходные данные:***\n",
        "\n",
        "Выведите «YES» (без кавычек), если заданное название будет совпадать со своим зеркальным отражением. Иначе, выведите «NO» (без кавычек)."
      ],
      "metadata": {
        "id": "ghEY1U4XVZ2o"
      }
    },
    {
      "cell_type": "markdown",
      "source": [
        "##### **Код программы**"
      ],
      "metadata": {
        "id": "3ieK3QlcWUkZ"
      }
    },
    {
      "cell_type": "code",
      "source": [
        "def solve(s):\n",
        "    symmetric_letters = {'A', 'H', 'I', 'M', 'O', 'T', 'U', 'V', 'W', 'X', 'Y'}\n",
        "    n = len(s)\n",
        "    n2 = round(n/2)\n",
        "    for i in range(0, n2+1):\n",
        "        left_char = s[i]\n",
        "        right_char = s[n - i - 1]\n",
        "        if left_char not in symmetric_letters \\\n",
        "                or right_char not in symmetric_letters \\\n",
        "                or left_char != right_char:\n",
        "            return \"NO\"\n",
        "\n",
        "    return \"YES\"\n",
        "\n",
        "\n",
        "def main():\n",
        "\n",
        "    s = input()\n",
        "    print (solve(s))\n",
        "    \n",
        "main()"
      ],
      "metadata": {
        "colab": {
          "base_uri": "https://localhost:8080/"
        },
        "id": "9P28_dbZVPnb",
        "outputId": "1f9aca3c-1842-472d-a686-f8cea4ecb8bc"
      },
      "execution_count": 8,
      "outputs": [
        {
          "output_type": "stream",
          "name": "stdout",
          "text": [
            "AHA\n",
            "YES\n"
          ]
        }
      ]
    },
    {
      "cell_type": "markdown",
      "source": [
        "#### **Скриншот пройденных проверок на сайте CodeForces**"
      ],
      "metadata": {
        "id": "uU28_ucNWq0l"
      }
    },
    {
      "cell_type": "markdown",
      "source": [
        "![CodeForces.png](data:image/png;base64,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)"
      ],
      "metadata": {
        "id": "cubXhbTpW893"
      }
    }
  ]
}